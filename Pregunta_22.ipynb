{
  "nbformat": 4,
  "nbformat_minor": 0,
  "metadata": {
    "colab": {
      "provenance": [],
      "authorship_tag": "ABX9TyOibXtF31dTAfzL8PsPVwuR",
      "include_colab_link": true
    },
    "kernelspec": {
      "name": "python3",
      "display_name": "Python 3"
    },
    "language_info": {
      "name": "python"
    }
  },
  "cells": [
    {
      "cell_type": "markdown",
      "metadata": {
        "id": "view-in-github",
        "colab_type": "text"
      },
      "source": [
        "<a href=\"https://colab.research.google.com/github/OmarRC123/ORC_PY_exa1/blob/main/Pregunta_22.ipynb\" target=\"_parent\"><img src=\"https://colab.research.google.com/assets/colab-badge.svg\" alt=\"Open In Colab\"/></a>"
      ]
    },
    {
      "cell_type": "code",
      "execution_count": 1,
      "metadata": {
        "id": "1_lH-oMSGn9M"
      },
      "outputs": [],
      "source": [
        "import random"
      ]
    },
    {
      "cell_type": "code",
      "source": [
        "def genealea():\n",
        "  i=0\n",
        "  lista = []\n",
        "  while(i<30):\n",
        "    n= random.randint(20,100)\n",
        "    if n not in lista:\n",
        "      lista.append(n)\n",
        "      i+=1\n",
        "  return lista\n"
      ],
      "metadata": {
        "id": "w6TK7YYgGwPt"
      },
      "execution_count": 9,
      "outputs": []
    },
    {
      "cell_type": "code",
      "source": [
        "list = []\n",
        "list = genealea()\n",
        "print(list)"
      ],
      "metadata": {
        "colab": {
          "base_uri": "https://localhost:8080/"
        },
        "id": "jo7ck2afIK81",
        "outputId": "39915dbd-c2ef-4169-b602-18773a47ef48"
      },
      "execution_count": 10,
      "outputs": [
        {
          "output_type": "stream",
          "name": "stdout",
          "text": [
            "[49, 98, 36, 43, 27, 52, 93, 40, 72, 83, 63, 62, 38, 70, 78, 47, 79, 97, 89, 66, 56, 51, 23, 39, 31, 71, 82, 22, 58, 48]\n"
          ]
        }
      ]
    }
  ]
}