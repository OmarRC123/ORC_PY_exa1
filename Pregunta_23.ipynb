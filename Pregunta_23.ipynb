{
  "nbformat": 4,
  "nbformat_minor": 0,
  "metadata": {
    "colab": {
      "provenance": [],
      "authorship_tag": "ABX9TyMdzYNxn62cz4h93quMbrrs",
      "include_colab_link": true
    },
    "kernelspec": {
      "name": "python3",
      "display_name": "Python 3"
    },
    "language_info": {
      "name": "python"
    }
  },
  "cells": [
    {
      "cell_type": "markdown",
      "metadata": {
        "id": "view-in-github",
        "colab_type": "text"
      },
      "source": [
        "<a href=\"https://colab.research.google.com/github/OmarRC123/ORC_PY_exa1/blob/main/Pregunta_23.ipynb\" target=\"_parent\"><img src=\"https://colab.research.google.com/assets/colab-badge.svg\" alt=\"Open In Colab\"/></a>"
      ]
    },
    {
      "cell_type": "code",
      "source": [
        "def areatriangulo():\n",
        "  try:\n",
        "    base = float(input(\"Dame la base del triangulo: \"))\n",
        "    altura = float(input(\"Dame la altura del triangulo: \"))\n",
        "  except:\n",
        "    print(\"Error\")\n",
        "  else:\n",
        "    area = (base*altura)/2\n",
        "  return area"
      ],
      "metadata": {
        "id": "TCqb8tbgI-ZI"
      },
      "execution_count": 8,
      "outputs": []
    },
    {
      "cell_type": "code",
      "source": [
        "print(\"Vamos a calcular el area de un traingulo\")\n",
        "try:\n",
        "  areas = areatriangulo()\n",
        "  print(f\"El area del triangulo es: {areas}\")\n",
        "except:\n",
        "  print(\"\")"
      ],
      "metadata": {
        "colab": {
          "base_uri": "https://localhost:8080/"
        },
        "id": "2KW6X7S5J0Sd",
        "outputId": "0cb4e4bd-eb12-4b44-cc9b-bf109fa0db7b"
      },
      "execution_count": 14,
      "outputs": [
        {
          "output_type": "stream",
          "name": "stdout",
          "text": [
            "Vamos a calcular el area de un traingulo\n",
            "Dame la base del triangulo: 33\n",
            "Dame la altura del triangulo: 243\n",
            "El area del triangulo es: 4009.5\n"
          ]
        }
      ]
    }
  ]
}