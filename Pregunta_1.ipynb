{
  "nbformat": 4,
  "nbformat_minor": 0,
  "metadata": {
    "colab": {
      "provenance": [],
      "authorship_tag": "ABX9TyO9bIDBFhYNf/6uOsbVp6Tf",
      "include_colab_link": true
    },
    "kernelspec": {
      "name": "python3",
      "display_name": "Python 3"
    },
    "language_info": {
      "name": "python"
    }
  },
  "cells": [
    {
      "cell_type": "markdown",
      "metadata": {
        "id": "view-in-github",
        "colab_type": "text"
      },
      "source": [
        "<a href=\"https://colab.research.google.com/github/OmarRC123/ORC_PY_exa1/blob/main/Pregunta_1.ipynb\" target=\"_parent\"><img src=\"https://colab.research.google.com/assets/colab-badge.svg\" alt=\"Open In Colab\"/></a>"
      ]
    },
    {
      "cell_type": "markdown",
      "source": [
        "Escribe una funcion de Python en collaboratory que realice lo siguiente:\n",
        "\n",
        "funcion que retorne un diccionario con los datos basicos de un alumno (pedir al usuario y validar)"
      ],
      "metadata": {
        "id": "UI1T2yFC589j"
      }
    },
    {
      "cell_type": "code",
      "source": [
        "def generadic():\n",
        "\n",
        "  matricula = vali_num(300000, 399999, \"Dame la matricula (Entre el 300000 y el 399999): \")\n",
        "  nombre = input(\"Nombre: \")\n",
        "  apellidop = input(\"Ingresa el apellido paterno: \")\n",
        "  apellidom = input(\"Ingresa el apellido materno: \")\n",
        "  sexo = vali_num(1,2,\"Sexo, 1-hombre 2-mujer: \")\n",
        "  edad = vali_num(18,80,\"Ingrese su edad: \")\n",
        "  if sexo == 1:\n",
        "    sexo = \"Hombre\"\n",
        "  else:\n",
        "    sexo = \"Mujer\"\n",
        "  regis = {'Matricula':matricula,'NOMBRE':nombre, 'PATERNO':apellidop, 'MATERNO': apellidom, 'Sexo': sexo, 'EDAD':edad}\n",
        "  return regis"
      ],
      "metadata": {
        "id": "2sjdHvI16I9m"
      },
      "execution_count": 39,
      "outputs": []
    },
    {
      "cell_type": "code",
      "source": [
        "def vali_num(ri, rf, msge):\n",
        "  i=1\n",
        "  while(i==1):\n",
        "    try:\n",
        "      while(i==1):\n",
        "        n= int(input(f\"{msge}\"))\n",
        "        if n>=ri and n<=rf:\n",
        "          return n\n",
        "    except:\n",
        "      print(\"Error, intenta de nuevo\")\n",
        "\n",
        "\n",
        ""
      ],
      "metadata": {
        "id": "n1DdqL9S8EFr"
      },
      "execution_count": 40,
      "outputs": []
    },
    {
      "cell_type": "code",
      "source": [
        "lista =[]\n",
        "lista = generadic()\n",
        "print(lista)"
      ],
      "metadata": {
        "colab": {
          "base_uri": "https://localhost:8080/"
        },
        "id": "t3ja_X9zBMx7",
        "outputId": "222e3744-6733-4cdd-94ab-0ee798bcb8fb"
      },
      "execution_count": 41,
      "outputs": [
        {
          "output_type": "stream",
          "name": "stdout",
          "text": [
            "Dame la matricula (Entre el 300000 y el 399999): 372304\n",
            "Nombre: Omar\n",
            "Ingresa el apellido paterno: Robles\n",
            "Ingresa el apellido materno: Carrasco\n",
            "Sexo, 1-hombre 2-mujer: 1\n",
            "Ingrese su edad: 19\n",
            "{'Matricula': 372304, 'NOMBRE': 'Omar', 'PATERNO': 'Robles', 'MATERNO': 'Carrasco', 'Sexo': 'Hombre', 'EDAD': 19}\n"
          ]
        }
      ]
    },
    {
      "cell_type": "code",
      "source": [],
      "metadata": {
        "id": "VA5W44Dv_CwR"
      },
      "execution_count": 31,
      "outputs": []
    }
  ]
}